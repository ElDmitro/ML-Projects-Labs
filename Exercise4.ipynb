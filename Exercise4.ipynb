{
 "cells": [
  {
   "cell_type": "markdown",
   "metadata": {},
   "source": [
    "## Imports"
   ]
  },
  {
   "cell_type": "code",
   "execution_count": 1,
   "metadata": {},
   "outputs": [],
   "source": [
    "import numpy as np\n",
    "from matplotlib import pyplot as plt"
   ]
  },
  {
   "cell_type": "markdown",
   "metadata": {},
   "source": [
    "---"
   ]
  },
  {
   "cell_type": "code",
   "execution_count": 2,
   "metadata": {},
   "outputs": [],
   "source": [
    "random_seed = 43\n",
    "np.random.seed(random_seed)"
   ]
  },
  {
   "cell_type": "markdown",
   "metadata": {},
   "source": [
    "## Task 1 implementation"
   ]
  },
  {
   "cell_type": "markdown",
   "metadata": {},
   "source": [
    "### environ constants"
   ]
  },
  {
   "cell_type": "code",
   "execution_count": 3,
   "metadata": {},
   "outputs": [],
   "source": [
    "slot_machine_num = 100\n",
    "time_period = 1000"
   ]
  },
  {
   "cell_type": "code",
   "execution_count": 4,
   "metadata": {},
   "outputs": [],
   "source": [
    "slot_machine_expect = np.random.randn(slot_machine_num)\n",
    "slot_machine_var = np.array([1] * slot_machine_num)\n",
    "\n",
    "get_reward = lambda i: np.random.normal(slot_machine_expect[i], slot_machine_var[i])"
   ]
  },
  {
   "cell_type": "code",
   "execution_count": 30,
   "metadata": {},
   "outputs": [],
   "source": [
    "greedy_policy_init = 1. / slot_machine_num\n",
    "eps_greedy_const = 0.01\n",
    "eps_softmax_const = 16\n",
    "eps_usb = 0.5"
   ]
  },
  {
   "cell_type": "markdown",
   "metadata": {},
   "source": [
    "### Greedy policy"
   ]
  },
  {
   "cell_type": "code",
   "execution_count": 6,
   "metadata": {},
   "outputs": [],
   "source": [
    "reward_sum = np.array([0.] * slot_machine_num)\n",
    "play_count = np.array([0] * slot_machine_num)\n",
    "\n",
    "grst_reward_machine_set_mask = np.array([True] * slot_machine_num)\n",
    "machine_policy = np.array([greedy_policy_init] * slot_machine_num)\n",
    "step_av_reward = []\n",
    "\n",
    "for t in range(time_period):\n",
    "    machine_policy.fill(0)\n",
    "    machine_policy[grst_reward_machine_set_mask] = 1. / (grst_reward_machine_set_mask.sum())\n",
    "    \n",
    "    winner = np.random.choice(range(slot_machine_num), 1, p=machine_policy)[0]\n",
    "    play_count[winner] += 1\n",
    "    reward_sum[winner] += get_reward(winner)\n",
    "    \n",
    "    av_reward = np.array([0.] * slot_machine_num)\n",
    "    av_reward[play_count != 0] = reward_sum[play_count != 0] * 1. / play_count[play_count != 0]\n",
    "    grst_reward_machine_set_mask = av_reward == av_reward.max()\n",
    "    \n",
    "    step_av_reward.append((machine_policy * slot_machine_expect).sum())"
   ]
  },
  {
   "cell_type": "markdown",
   "metadata": {},
   "source": [
    "_Рассмотрим \"обученную\" стратегию для игры:_"
   ]
  },
  {
   "cell_type": "code",
   "execution_count": 7,
   "metadata": {},
   "outputs": [
    {
     "data": {
      "image/png": "[encoded data removed]",
      "text/plain": [
       "<Figure size 720x720 with 1 Axes>"
      ]
     },
     "metadata": {
      "needs_background": "light"
     },
     "output_type": "display_data"
    }
   ],
   "source": [
    "plt.figure(figsize=(10, 10))\n",
    "plt.title('Step reward estimate')\n",
    "plt.plot(range(time_period), step_av_reward)\n",
    "plt.show()"
   ]
  },
  {
   "cell_type": "code",
   "execution_count": 8,
   "metadata": {},
   "outputs": [
    {
     "name": "stdout",
     "output_type": "stream",
     "text": [
      "Не хватило до оптимальной стратегии 1417.631691273951\n",
      "\n",
      "Дискретное распределение стратегии: \n",
      "[0. 0. 0. 0. 0. 0. 0. 0. 0. 0. 0. 0. 0. 0. 0. 0. 0. 0. 0. 0. 0. 0. 0. 0.\n",
      " 0. 0. 0. 0. 0. 1. 0. 0. 0. 0. 0. 0. 0. 0. 0. 0. 0. 0. 0. 0. 0. 0. 0. 0.\n",
      " 0. 0. 0. 0. 0. 0. 0. 0. 0. 0. 0. 0. 0. 0. 0. 0. 0. 0. 0. 0. 0. 0. 0. 0.\n",
      " 0. 0. 0. 0. 0. 0. 0. 0. 0. 0. 0. 0. 0. 0. 0. 0. 0. 0. 0. 0. 0. 0. 0. 0.\n",
      " 0. 0. 0. 0.]\n",
      "\n",
      "Единственный автомат, в который мы будем играть: 29\n",
      "\n",
      "Средние выигрыши к этому моменту: \n",
      "[(0, 0.0), (1, 0.0), (2, 0.0), (3, 0.0), (4, 0.0), (5, 0.0), (6, 0.0), (7, 0.0), (8, 0.0), (9, 0.0), (10, 0.0), (11, 0.0), (12, 0.0), (13, 0.0), (14, 0.0), (15, 0.0), (16, 0.0), (17, 0.0), (18, 0.0), (19, 0.0), (20, 0.0), (21, 0.0), (22, 0.0), (23, 0.0), (24, 0.0), (25, 0.0), (26, 0.0), (27, 0.0), (28, 0.0), (29, 0.8486610169362404), (30, 0.0), (31, 0.0), (32, 0.0), (33, 0.0), (34, 0.0), (35, 0.0), (36, 0.0), (37, 0.0), (38, 0.0), (39, 0.0), (40, 0.0), (41, 0.0), (42, 0.0), (43, 0.0), (44, 0.0), (45, 0.0), (46, 0.0), (47, 0.0), (48, 0.0), (49, 0.0), (50, 0.0), (51, 0.0), (52, 0.0), (53, 0.0), (54, 0.0), (55, 0.0), (56, 0.0), (57, 0.0), (58, 0.0), (59, 0.0), (60, 0.0), (61, 0.0), (62, 0.0), (63, 0.0), (64, 0.0), (65, 0.0), (66, 0.0), (67, 0.0), (68, 0.0), (69, 0.0), (70, 0.0), (71, 0.0), (72, 0.0), (73, 0.0), (74, 0.0), (75, 0.0), (76, 0.0), (77, 0.0), (78, 0.0), (79, 0.0), (80, 0.0), (81, 0.0), (82, 0.0), (83, 0.0), (84, 0.0), (85, 0.0), (86, 0.0), (87, 0.0), (88, 0.0), (89, 0.0), (90, 0.0), (91, 0.0), (92, 0.0), (93, 0.0), (94, 0.0), (95, 0.0), (96, 0.0), (97, 0.0), (98, 0.0), (99, 0.0)]\n",
      "\n",
      "Мат. ожидания выигрышей (по возрастанию) \n",
      "[(36, -2.0470691310925226), (64, -1.8583428993401105), (12, -1.6686627070136322), (85, -1.6340320196281182), (54, -1.4860425818603866), (30, -1.4078781703965773), (69, -1.2992251500107808), (48, -1.2991613442508536), (90, -1.1637024197482566), (88, -1.0863992928587567), (52, -1.0776008975563638), (51, -1.067713065355306), (18, -1.0468389862150573), (73, -1.0127092548002778), (94, -0.9773387108382874), (75, -0.9614690500385404), (1, -0.9084814327806611), (19, -0.8896175886602026), (13, -0.8620854950098128), (53, -0.7967737630194123), (67, -0.6947726440109934), (38, -0.6790071212021919), (46, -0.6558941461838667), (58, -0.6264840491269837), (17, -0.6184426549843884), (87, -0.6177277008871878), (44, -0.5949556701334289), (45, -0.5812695375284159), (3, -0.5349155987755707), (92, -0.46264385554042636), (9, -0.43921485686763406), (5, -0.41300998231472696), (23, -0.39911571852552363), (34, -0.38665813551339834), (2, -0.37850310605882326), (10, -0.34643789298865063), (70, -0.3211054471025893), (50, -0.28844018276667344), (68, -0.2691755659389808), (77, -0.22373208113319423), (95, -0.2224362584359336), (97, -0.18838434888047959), (65, -0.16658004391883166), (21, -0.16082968616578383), (32, -0.13828364464101), (15, -0.12431339614548602), (81, -0.11449202010433539), (26, -0.10798056134293389), (76, -0.09256618896659229), (89, -0.044753328004711504), (74, -0.023974070269650767), (60, 0.005205684935553051), (20, 0.01404053719712835), (24, 0.05444456336457185), (63, 0.09027953249104458), (96, 0.09693176788019556), (66, 0.11087648013745463), (80, 0.16281815769810043), (83, 0.17979165086317853), (33, 0.18717858533399576), (0, 0.25739992534469336), (93, 0.28735510483252746), (59, 0.3079310128755357), (28, 0.3949066359501769), (62, 0.4448621590773117), (11, 0.4553196595572467), (14, 0.49291084812374153), (6, 0.49818858448728287), (71, 0.5058687421604646), (55, 0.5141287656735564), (27, 0.5556069842518202), (91, 0.5689394950042188), (99, 0.5858108272747818), (61, 0.6915319076425244), (31, 0.8078494136349023), (42, 0.8281299823497013), (78, 0.832892162099332), (29, 0.8372050226472976), (56, 0.8517908644430702), (4, 0.8580733460716252), (25, 0.8841818151951191), (47, 0.9251488533568732), (57, 0.9586734372734298), (79, 0.9741195783904064), (49, 1.0111668672107617), (41, 1.0149885167826984), (82, 1.1864684326166455), (40, 1.2212159632534685), (8, 1.2628615445176543), (37, 1.3993169863061743), (84, 1.5164416176334854), (39, 1.5289851345959593), (98, 1.5916021583729445), (35, 1.6590487297919927), (86, 1.7819709009957654), (16, 1.9351362874003422), (7, 2.0101992475719856), (72, 2.0890595712039643), (22, 2.2303596488319384), (43, 2.2662927082101914)]\n",
      "\n"
     ]
    }
   ],
   "source": [
    "av_reward = np.array([0.] * slot_machine_num)\n",
    "av_reward[play_count != 0] = reward_sum[play_count != 0] * 1. / play_count[play_count != 0]\n",
    "\n",
    "print(\"Не хватило до оптимальной стратегии {}\\n\".format(time_period * slot_machine_expect.max() - reward_sum.sum()))\n",
    "print(\"Дискретное распределение стратегии: \\n{}\\n\".format(machine_policy))\n",
    "print(\"Единственный автомат, в который мы будем играть: {}\\n\".format(machine_policy.argmax()))\n",
    "print(\"Средние выигрыши к этому моменту: \\n{}\\n\".format(list(zip(range(slot_machine_num), av_reward))))\n",
    "print(\"Мат. ожидания выигрышей (по возрастанию) \\n{}\\n\".format(list(zip(slot_machine_expect.argsort(), sorted(slot_machine_expect)))))"
   ]
  },
  {
   "cell_type": "markdown",
   "metadata": {},
   "source": [
    "_Наблюдаем, что наш жадный подход выбрал один единственный автомат, в который он по его мнению рекомендует нам играть._\n",
    "\n",
    "_Проанализируем подробнее состояние среды и метаданные нашей стратегии. Видим, что жадный алгоритм нашел не статистически лучший автомат._\n",
    "\n",
    "_Отличительной чертой данного подхода является тот факт, что большая часть автоматов даже не была опробована. Это связано с тем, что как только один из автоматов даст неотрицательный выигрыш, для нашего алгоритма этот автомат станет оптимальный до тех пор, пока он показывает в среднем положительный результат, не трудно понять, что в этом случае мы исключаем из рассмотрения множество более оптимальных для игры автоматов. Исправить эту ситуацию позволит придание ненулевой вероятности в стратегии для автоматов, которые на текущей итерации не имеют лучшей оценки на мат. ожидание_\n",
    "\n",
    "_Инициализацией для стратегии мы положили - \"равномерное\" распределение на всех автоматах. Увеличение начальной вероятности любого автомата --- это добавление в модель некоторой априорной информации о значимости этого автомата (по условию среды, этой информации у нас нет). Т.е. если мы изначально будем выбирать автоматы не равнозначно, мы перевзвесим какие-то из автоматов, если придадим им больщий вес или недооценим, если занизим вероятность. По этой причине было выбрано \"равномерное\" распределение._"
   ]
  },
  {
   "cell_type": "markdown",
   "metadata": {},
   "source": [
    "### $\\varepsilon$ -greedy policy"
   ]
  },
  {
   "cell_type": "code",
   "execution_count": 9,
   "metadata": {},
   "outputs": [],
   "source": [
    "reward_sum = np.array([0.] * slot_machine_num)\n",
    "play_count = np.array([0] * slot_machine_num)\n",
    "\n",
    "grst_reward_machine_set_mask = np.array([True] * slot_machine_num)\n",
    "machine_policy = np.array([greedy_policy_init] * slot_machine_num)\n",
    "\n",
    "eps = eps_greedy_const\n",
    "step_av_reward = []\n",
    "for t in range(time_period):\n",
    "    machine_policy.fill(eps / slot_machine_num)\n",
    "    machine_policy[grst_reward_machine_set_mask] += (1. - eps) / (grst_reward_machine_set_mask.sum())\n",
    "    \n",
    "    winner = np.random.choice(range(slot_machine_num), 1, p=machine_policy)[0]\n",
    "    play_count[winner] += 1\n",
    "    reward_sum[winner] += get_reward(winner)\n",
    "    \n",
    "    av_reward = np.array([0.] * slot_machine_num)\n",
    "    av_reward[play_count != 0] = reward_sum[play_count != 0] * 1. / play_count[play_count != 0]\n",
    "    grst_reward_machine_set_mask = av_reward == av_reward.max()\n",
    "    \n",
    "    eps -= (eps / time_period)\n",
    "    step_av_reward.append((machine_policy * slot_machine_expect).sum())"
   ]
  },
  {
   "cell_type": "code",
   "execution_count": 10,
   "metadata": {},
   "outputs": [
    {
     "data": {
      "image/png": "[encoded data removed]",
      "text/plain": [
       "<Figure size 720x720 with 1 Axes>"
      ]
     },
     "metadata": {
      "needs_background": "light"
     },
     "output_type": "display_data"
    }
   ],
   "source": [
    "plt.figure(figsize=(10, 10))\n",
    "plt.title('Step reward estimate')\n",
    "plt.plot(range(time_period), step_av_reward)\n",
    "plt.show()"
   ]
  },
  {
   "cell_type": "code",
   "execution_count": 11,
   "metadata": {},
   "outputs": [
    {
     "name": "stdout",
     "output_type": "stream",
     "text": [
      "Не хватило до оптимальной стратегии 137.55446914945514\n",
      "\n",
      "Дискретное распределение стратегии: \n",
      "[3.68063488e-05 3.68063488e-05 3.68063488e-05 3.68063488e-05\n",
      " 3.68063488e-05 3.68063488e-05 3.68063488e-05 3.68063488e-05\n",
      " 3.68063488e-05 3.68063488e-05 3.68063488e-05 3.68063488e-05\n",
      " 3.68063488e-05 3.68063488e-05 3.68063488e-05 3.68063488e-05\n",
      " 3.68063488e-05 3.68063488e-05 3.68063488e-05 3.68063488e-05\n",
      " 3.68063488e-05 3.68063488e-05 9.96356171e-01 3.68063488e-05\n",
      " 3.68063488e-05 3.68063488e-05 3.68063488e-05 3.68063488e-05\n",
      " 3.68063488e-05 3.68063488e-05 3.68063488e-05 3.68063488e-05\n",
      " 3.68063488e-05 3.68063488e-05 3.68063488e-05 3.68063488e-05\n",
      " 3.68063488e-05 3.68063488e-05 3.68063488e-05 3.68063488e-05\n",
      " 3.68063488e-05 3.68063488e-05 3.68063488e-05 3.68063488e-05\n",
      " 3.68063488e-05 3.68063488e-05 3.68063488e-05 3.68063488e-05\n",
      " 3.68063488e-05 3.68063488e-05 3.68063488e-05 3.68063488e-05\n",
      " 3.68063488e-05 3.68063488e-05 3.68063488e-05 3.68063488e-05\n",
      " 3.68063488e-05 3.68063488e-05 3.68063488e-05 3.68063488e-05\n",
      " 3.68063488e-05 3.68063488e-05 3.68063488e-05 3.68063488e-05\n",
      " 3.68063488e-05 3.68063488e-05 3.68063488e-05 3.68063488e-05\n",
      " 3.68063488e-05 3.68063488e-05 3.68063488e-05 3.68063488e-05\n",
      " 3.68063488e-05 3.68063488e-05 3.68063488e-05 3.68063488e-05\n",
      " 3.68063488e-05 3.68063488e-05 3.68063488e-05 3.68063488e-05\n",
      " 3.68063488e-05 3.68063488e-05 3.68063488e-05 3.68063488e-05\n",
      " 3.68063488e-05 3.68063488e-05 3.68063488e-05 3.68063488e-05\n",
      " 3.68063488e-05 3.68063488e-05 3.68063488e-05 3.68063488e-05\n",
      " 3.68063488e-05 3.68063488e-05 3.68063488e-05 3.68063488e-05\n",
      " 3.68063488e-05 3.68063488e-05 3.68063488e-05 3.68063488e-05]\n",
      "\n",
      "Единственный автомат, в который мы будем играть: 22\n",
      "\n",
      "Средние выигрыши к этому моменту: \n",
      "[(0, 0.0), (1, 0.0), (2, 0.0), (3, 0.0), (4, 0.0), (5, 0.0), (6, 0.0), (7, 0.0), (8, 2.0360025729855544), (9, 0.0), (10, 0.0), (11, 0.0), (12, 0.0), (13, 0.0), (14, 0.0), (15, 0.0), (16, 0.0), (17, 0.0), (18, 0.0), (19, 0.0), (20, 0.0), (21, 0.0), (22, 2.191772491795774), (23, 0.0), (24, 0.0), (25, 0.0), (26, 0.0), (27, 0.0), (28, 0.0), (29, 0.0), (30, 0.0), (31, 0.0), (32, 0.0), (33, 0.0), (34, 0.0), (35, 0.0), (36, 0.0), (37, 0.0), (38, 0.0), (39, 0.0), (40, 0.0), (41, 0.0), (42, 0.0), (43, 0.0), (44, 0.0), (45, 0.0), (46, 0.0), (47, 0.0), (48, 0.0), (49, 0.0), (50, 0.0), (51, 0.0), (52, 1.1403471950733706), (53, 0.0), (54, 0.0), (55, -0.5323156871979889), (56, 0.0), (57, 0.0), (58, 0.0), (59, 0.0), (60, 0.0), (61, 0.0), (62, 0.0), (63, 0.0), (64, 0.0), (65, 0.0), (66, 0.0), (67, -1.7590180581029722), (68, 0.0), (69, 0.0), (70, 0.0), (71, 0.0), (72, 0.0), (73, 0.0), (74, 0.0), (75, 0.0), (76, 0.0), (77, 0.0), (78, 0.0), (79, 0.7898255993257474), (80, 0.8284052563209139), (81, 0.0), (82, 0.0), (83, 0.0), (84, 0.0), (85, 0.0), (86, 0.0), (87, 0.0), (88, 0.0), (89, 0.0), (90, 0.0), (91, 0.0), (92, 0.0), (93, 0.0), (94, 0.0), (95, 0.0), (96, 0.0), (97, -1.0328610197772092), (98, 0.0), (99, 1.8426324496405817)]\n",
      "\n",
      "Мат. ожидания выигрышей (по возрастанию) \n",
      "[(36, -2.0470691310925226), (64, -1.8583428993401105), (12, -1.6686627070136322), (85, -1.6340320196281182), (54, -1.4860425818603866), (30, -1.4078781703965773), (69, -1.2992251500107808), (48, -1.2991613442508536), (90, -1.1637024197482566), (88, -1.0863992928587567), (52, -1.0776008975563638), (51, -1.067713065355306), (18, -1.0468389862150573), (73, -1.0127092548002778), (94, -0.9773387108382874), (75, -0.9614690500385404), (1, -0.9084814327806611), (19, -0.8896175886602026), (13, -0.8620854950098128), (53, -0.7967737630194123), (67, -0.6947726440109934), (38, -0.6790071212021919), (46, -0.6558941461838667), (58, -0.6264840491269837), (17, -0.6184426549843884), (87, -0.6177277008871878), (44, -0.5949556701334289), (45, -0.5812695375284159), (3, -0.5349155987755707), (92, -0.46264385554042636), (9, -0.43921485686763406), (5, -0.41300998231472696), (23, -0.39911571852552363), (34, -0.38665813551339834), (2, -0.37850310605882326), (10, -0.34643789298865063), (70, -0.3211054471025893), (50, -0.28844018276667344), (68, -0.2691755659389808), (77, -0.22373208113319423), (95, -0.2224362584359336), (97, -0.18838434888047959), (65, -0.16658004391883166), (21, -0.16082968616578383), (32, -0.13828364464101), (15, -0.12431339614548602), (81, -0.11449202010433539), (26, -0.10798056134293389), (76, -0.09256618896659229), (89, -0.044753328004711504), (74, -0.023974070269650767), (60, 0.005205684935553051), (20, 0.01404053719712835), (24, 0.05444456336457185), (63, 0.09027953249104458), (96, 0.09693176788019556), (66, 0.11087648013745463), (80, 0.16281815769810043), (83, 0.17979165086317853), (33, 0.18717858533399576), (0, 0.25739992534469336), (93, 0.28735510483252746), (59, 0.3079310128755357), (28, 0.3949066359501769), (62, 0.4448621590773117), (11, 0.4553196595572467), (14, 0.49291084812374153), (6, 0.49818858448728287), (71, 0.5058687421604646), (55, 0.5141287656735564), (27, 0.5556069842518202), (91, 0.5689394950042188), (99, 0.5858108272747818), (61, 0.6915319076425244), (31, 0.8078494136349023), (42, 0.8281299823497013), (78, 0.832892162099332), (29, 0.8372050226472976), (56, 0.8517908644430702), (4, 0.8580733460716252), (25, 0.8841818151951191), (47, 0.9251488533568732), (57, 0.9586734372734298), (79, 0.9741195783904064), (49, 1.0111668672107617), (41, 1.0149885167826984), (82, 1.1864684326166455), (40, 1.2212159632534685), (8, 1.2628615445176543), (37, 1.3993169863061743), (84, 1.5164416176334854), (39, 1.5289851345959593), (98, 1.5916021583729445), (35, 1.6590487297919927), (86, 1.7819709009957654), (16, 1.9351362874003422), (7, 2.0101992475719856), (72, 2.0890595712039643), (22, 2.2303596488319384), (43, 2.2662927082101914)]\n",
      "\n"
     ]
    }
   ],
   "source": [
    "av_reward = np.array([0.] * slot_machine_num)\n",
    "av_reward[play_count != 0] = reward_sum[play_count != 0] * 1. / play_count[play_count != 0]\n",
    "\n",
    "print(\"Не хватило до оптимальной стратегии {}\\n\".format(time_period * slot_machine_expect.max() - reward_sum.sum()))\n",
    "print(\"Дискретное распределение стратегии: \\n{}\\n\".format(machine_policy))\n",
    "print(\"Единственный автомат, в который мы будем играть: {}\\n\".format(machine_policy.argmax()))\n",
    "print(\"Средние выигрыши к этому моменту: \\n{}\\n\".format(list(zip(range(slot_machine_num), av_reward))))\n",
    "print(\"Мат. ожидания выигрышей (по возрастанию) \\n{}\\n\".format(list(zip(slot_machine_expect.argsort(), sorted(slot_machine_expect)))))"
   ]
  },
  {
   "cell_type": "markdown",
   "metadata": {},
   "source": [
    "_Сразу заметим, что новый более умный подход находит практически оптимальный статистически автомат для игры. Более того, итоговый выигрыш значительно ближе к оптимальному в отличие от наивной жадной стратегии._\n",
    "\n",
    "_Увеличение гиперпараметра алгоритма будет приводить к более частому исследованию распределений автоматов (корректировки оценок на мат. ожидания выигрыша автомата). Это позволяет нам не застревать на статистически неотрицательных автоматах. Положив $\\varepsilon$ за ноль, мы получим наивный жадник из предыдущего пункта._\n",
    "\n",
    "_Т.к. число ходов у нас ограничено, мы не можем себе позволить (хотим много денег) исследовать все ходы, поэтому было бы разумно пропорционально понижать вероятность исследования на каждом шаге, т.к. с каждым ходом растет наша уверенность в распределениях автоматов. Например, можно за предоставленное нам количество ходов равномерно сводить к нулю вероятность исследования от начальной к около нулевому значению._"
   ]
  },
  {
   "cell_type": "markdown",
   "metadata": {},
   "source": [
    "### Softmax"
   ]
  },
  {
   "cell_type": "code",
   "execution_count": 12,
   "metadata": {},
   "outputs": [],
   "source": [
    "reward_sum = np.array([2.] * slot_machine_num)\n",
    "play_count = np.array([1] * slot_machine_num)\n",
    "\n",
    "machine_policy = np.array([greedy_policy_init] * slot_machine_num)\n",
    "\n",
    "e = eps_softmax_const\n",
    "step_av_reward = []\n",
    "for t in range(time_period):\n",
    "    eps = e * 1. / (t + 1)\n",
    "    av_reward = np.array([0.] * slot_machine_num)\n",
    "    av_reward[play_count != 0] = reward_sum[play_count != 0] * 1. / play_count[play_count != 0]\n",
    "    \n",
    "    compl_prob = np.exp(av_reward / eps).sum()\n",
    "    machine_policy = np.exp(av_reward / eps) / compl_prob\n",
    "    \n",
    "    winner = np.random.choice(range(slot_machine_num), 1, p=machine_policy)[0]\n",
    "    play_count[winner] += 1\n",
    "    reward_sum[winner] += get_reward(winner)\n",
    "    \n",
    "    #eps -= (eps / time_period)\n",
    "    step_av_reward.append((machine_policy * slot_machine_expect).sum())"
   ]
  },
  {
   "cell_type": "code",
   "execution_count": 13,
   "metadata": {},
   "outputs": [
    {
     "data": {
      "image/png": "[encoded data removed]",
      "text/plain": [
       "<Figure size 720x720 with 1 Axes>"
      ]
     },
     "metadata": {
      "needs_background": "light"
     },
     "output_type": "display_data"
    }
   ],
   "source": [
    "plt.figure(figsize=(10, 10))\n",
    "plt.title('Step reward estimate')\n",
    "plt.plot(range(time_period), step_av_reward)\n",
    "plt.show()"
   ]
  },
  {
   "cell_type": "code",
   "execution_count": 14,
   "metadata": {},
   "outputs": [
    {
     "name": "stdout",
     "output_type": "stream",
     "text": [
      "Не хватило до оптимальной стратегии 7.3956230688095275\n",
      "\n",
      "Дискретное распределение стратегии: \n",
      "[4.10216265e-32 4.22734690e-79 4.45670522e-38 1.58748060e-46\n",
      " 4.29438784e-32 1.42139384e-44 1.14960935e-18 1.39977754e-08\n",
      " 7.60602789e-43 9.68376788e-53 3.51717829e-09 4.63668105e-25\n",
      " 1.01820272e-60 3.51717829e-09 5.72817679e-51 2.76762089e-37\n",
      " 3.51717829e-09 1.48933255e-51 2.03981182e-33 2.10651271e-29\n",
      " 1.15323803e-49 1.43735071e-31 9.99999793e-01 2.09628623e-19\n",
      " 1.88294695e-32 1.04407718e-37 4.00935845e-53 2.81357638e-37\n",
      " 1.31622380e-27 6.10315614e-37 4.75020095e-62 7.99668811e-30\n",
      " 9.03129270e-69 2.64775818e-24 1.23683276e-44 3.04501935e-22\n",
      " 1.47852625e-75 1.11883631e-20 8.33950997e-20 9.07204605e-28\n",
      " 1.47568295e-24 2.49220803e-13 4.25998937e-24 3.62097534e-21\n",
      " 3.18023289e-43 6.77611725e-20 3.51717829e-09 1.02178092e-22\n",
      " 4.88939759e-59 4.29016959e-21 8.69241183e-61 1.77105450e-75\n",
      " 1.35973208e-45 2.81371815e-35 5.76888579e-79 3.56820101e-34\n",
      " 7.55896366e-24 2.07818300e-20 2.05206834e-69 9.52179780e-40\n",
      " 7.29749542e-26 2.02571438e-23 3.71022781e-24 2.64850221e-38\n",
      " 1.83643082e-57 1.17136883e-60 2.27005708e-45 7.51602902e-55\n",
      " 6.02311868e-21 2.86829415e-51 3.51717829e-09 8.14721997e-27\n",
      " 1.71697207e-07 6.29295720e-36 2.99816853e-31 3.51717829e-09\n",
      " 1.12089745e-32 7.90280564e-40 1.30964121e-27 1.01282075e-33\n",
      " 1.17652256e-42 3.68973076e-24 1.69462126e-31 6.39331572e-82\n",
      " 5.06720631e-17 2.25605944e-76 1.88596517e-34 1.48972616e-56\n",
      " 1.83851250e-20 2.91025166e-54 4.08699671e-60 2.62787829e-43\n",
      " 6.41737838e-27 2.24704531e-41 7.86549542e-62 7.09492454e-28\n",
      " 5.45083981e-38 6.33730374e-43 5.79807743e-21 1.86875126e-30]\n",
      "\n",
      "Единственный автомат, в который мы будем играть: 22\n",
      "\n",
      "Средние выигрыши к этому моменту: \n",
      "[(0, 1.2079159718738686), (1, -0.4149556145631439), (2, 1.0019267451327503), (3, 0.7101326111685259), (4, 1.2086028924750245), (5, 0.7775525099466043), (6, 1.672377459587116), (7, 2.0207185905844094), (8, 0.837250833009815), (9, 0.4954857189549433), (10, 2.0), (11, 1.4515246742479873), (12, 0.21992810365276605), (13, 2.0), (14, 0.5566874650988554), (15, 1.029319196245982), (16, 2.0), (17, 0.5364814267382998), (18, 1.1628973442153416), (19, 1.301535093903418), (20, 0.6017226634866206), (21, 1.2267240580914394), (22, 2.2924644601843145), (23, 1.6468498601160642), (24, 1.1962358283375807), (25, 1.0146963764869659), (26, 0.4822584215324085), (27, 1.0295662213336043), (28, 1.3635586424009387), (29, 1.041181465803283), (30, 0.17395276918682057), (31, 1.2870062220368574), (32, -0.058181036698922384), (33, 1.4776591680500615), (34, 0.775466248801586), (35, 1.548833629980649), (36, -0.29255844059493796), (37, 1.6028929110106493), (38, 1.6330236408190446), (39, 1.3579763301326948), (40, 1.4688902818915142), (41, 1.8566775448694364), (42, 1.4847924683352998), (43, 1.585970948850995), (44, 0.8241710333276342), (45, 1.6299096378633104), (46, 2.0), (47, 1.5324542277518993), (48, 0.27800233111380634), (49, 1.5885146915010544), (50, 0.21755549838620214), (51, -0.28985050075750696), (52, 0.7423484793044401), (53, 1.0986445299420358), (54, -0.4102920489777522), (55, 1.1367466276849032), (56, 1.4933944798461678), (57, 1.6121809832456533), (58, -0.08040874594988079), (59, 0.9442368011760766), (60, 1.423788883509644), (61, 1.5081810810482699), (62, 1.4827198675403703), (63, 0.9941205129801182), (64, 0.3323912060829175), (65, 0.22203011320145472), (66, 0.7500362387011379), (67, 0.4226069692617529), (68, 1.5936038752336668), (69, 0.546312267883517), (70, 2.0), (71, 1.3909022906005206), (72, 2.0583211018444856), (73, 1.0761796181809622), (74, 1.2377520577609407), (75, 2.0), (76, 1.1884552020667611), (77, 0.941441313658519), (78, 1.363483437345392), (79, 1.152395569689423), (80, 0.8437939398249722), (81, 1.4826367707360317), (82, 1.2291939226776751), (83, -0.5123667671520407), (84, 1.7291667477548984), (85, -0.3207586089253449), (86, 1.127182300201837), (87, 0.3637915084798301), (88, 1.6103429262436735), (89, 0.4429137698750433), (90, 0.24077467414124887), (91, 0.8213093686692623), (92, 1.3873222844215873), (93, 0.8880385120297786), (94, 0.18151724823205917), (95, 1.3542890579069606), (96, 1.0049471441828877), (97, 0.8345135178742256), (98, 1.5930326933320094), (99, 1.2651998665219772)]\n",
      "\n",
      "Мат. ожидания выигрышей (по возрастанию) \n",
      "[(36, -2.0470691310925226), (64, -1.8583428993401105), (12, -1.6686627070136322), (85, -1.6340320196281182), (54, -1.4860425818603866), (30, -1.4078781703965773), (69, -1.2992251500107808), (48, -1.2991613442508536), (90, -1.1637024197482566), (88, -1.0863992928587567), (52, -1.0776008975563638), (51, -1.067713065355306), (18, -1.0468389862150573), (73, -1.0127092548002778), (94, -0.9773387108382874), (75, -0.9614690500385404), (1, -0.9084814327806611), (19, -0.8896175886602026), (13, -0.8620854950098128), (53, -0.7967737630194123), (67, -0.6947726440109934), (38, -0.6790071212021919), (46, -0.6558941461838667), (58, -0.6264840491269837), (17, -0.6184426549843884), (87, -0.6177277008871878), (44, -0.5949556701334289), (45, -0.5812695375284159), (3, -0.5349155987755707), (92, -0.46264385554042636), (9, -0.43921485686763406), (5, -0.41300998231472696), (23, -0.39911571852552363), (34, -0.38665813551339834), (2, -0.37850310605882326), (10, -0.34643789298865063), (70, -0.3211054471025893), (50, -0.28844018276667344), (68, -0.2691755659389808), (77, -0.22373208113319423), (95, -0.2224362584359336), (97, -0.18838434888047959), (65, -0.16658004391883166), (21, -0.16082968616578383), (32, -0.13828364464101), (15, -0.12431339614548602), (81, -0.11449202010433539), (26, -0.10798056134293389), (76, -0.09256618896659229), (89, -0.044753328004711504), (74, -0.023974070269650767), (60, 0.005205684935553051), (20, 0.01404053719712835), (24, 0.05444456336457185), (63, 0.09027953249104458), (96, 0.09693176788019556), (66, 0.11087648013745463), (80, 0.16281815769810043), (83, 0.17979165086317853), (33, 0.18717858533399576), (0, 0.25739992534469336), (93, 0.28735510483252746), (59, 0.3079310128755357), (28, 0.3949066359501769), (62, 0.4448621590773117), (11, 0.4553196595572467), (14, 0.49291084812374153), (6, 0.49818858448728287), (71, 0.5058687421604646), (55, 0.5141287656735564), (27, 0.5556069842518202), (91, 0.5689394950042188), (99, 0.5858108272747818), (61, 0.6915319076425244), (31, 0.8078494136349023), (42, 0.8281299823497013), (78, 0.832892162099332), (29, 0.8372050226472976), (56, 0.8517908644430702), (4, 0.8580733460716252), (25, 0.8841818151951191), (47, 0.9251488533568732), (57, 0.9586734372734298), (79, 0.9741195783904064), (49, 1.0111668672107617), (41, 1.0149885167826984), (82, 1.1864684326166455), (40, 1.2212159632534685), (8, 1.2628615445176543), (37, 1.3993169863061743), (84, 1.5164416176334854), (39, 1.5289851345959593), (98, 1.5916021583729445), (35, 1.6590487297919927), (86, 1.7819709009957654), (16, 1.9351362874003422), (7, 2.0101992475719856), (72, 2.0890595712039643), (22, 2.2303596488319384), (43, 2.2662927082101914)]\n",
      "\n"
     ]
    }
   ],
   "source": [
    "av_reward = np.array([0.] * slot_machine_num)\n",
    "av_reward[play_count != 0] = reward_sum[play_count != 0] * 1. / play_count[play_count != 0]\n",
    "\n",
    "print(\"Не хватило до оптимальной стратегии {}\\n\".format(time_period * slot_machine_expect.max() - reward_sum.sum()))\n",
    "print(\"Дискретное распределение стратегии: \\n{}\\n\".format(machine_policy))\n",
    "print(\"Единственный автомат, в который мы будем играть: {}\\n\".format(machine_policy.argmax()))\n",
    "print(\"Средние выигрыши к этому моменту: \\n{}\\n\".format(list(zip(range(slot_machine_num), av_reward))))\n",
    "print(\"Мат. ожидания выигрышей (по возрастанию) \\n{}\\n\".format(list(zip(slot_machine_expect.argsort(), sorted(slot_machine_expect)))))"
   ]
  },
  {
   "cell_type": "code",
   "execution_count": 15,
   "metadata": {},
   "outputs": [],
   "source": [
    "cv_results = {}"
   ]
  },
  {
   "cell_type": "code",
   "execution_count": 16,
   "metadata": {
    "scrolled": true
   },
   "outputs": [
    {
     "name": "stdout",
     "output_type": "stream",
     "text": [
      "10 iter started\n",
      "11 iter started\n",
      "12 iter started\n",
      "13 iter started\n",
      "14 iter started\n",
      "15 iter started\n",
      "16 iter started\n",
      "17 iter started\n",
      "18 iter started\n",
      "19 iter started\n",
      "20 iter started\n",
      "21 iter started\n",
      "22 iter started\n",
      "23 iter started\n",
      "24 iter started\n",
      "25 iter started\n",
      "26 iter started\n",
      "27 iter started\n",
      "28 iter started\n",
      "29 iter started\n",
      "30 iter started\n",
      "31 iter started\n",
      "32 iter started\n",
      "33 iter started\n",
      "34 iter started\n",
      "35 iter started\n",
      "36 iter started\n",
      "37 iter started\n",
      "38 iter started\n",
      "39 iter started\n",
      "40 iter started\n",
      "41 iter started\n",
      "42 iter started\n",
      "43 iter started\n",
      "44 iter started\n",
      "45 iter started\n",
      "46 iter started\n",
      "47 iter started\n",
      "48 iter started\n",
      "49 iter started\n",
      "50 iter started\n",
      "51 iter started\n",
      "52 iter started\n",
      "53 iter started\n",
      "54 iter started\n",
      "55 iter started\n",
      "56 iter started\n",
      "57 iter started\n",
      "58 iter started\n",
      "59 iter started\n",
      "60 iter started\n",
      "61 iter started\n",
      "62 iter started\n",
      "63 iter started\n",
      "64 iter started\n",
      "65 iter started\n",
      "66 iter started\n",
      "67 iter started\n",
      "68 iter started\n",
      "69 iter started\n",
      "70 iter started\n",
      "71 iter started\n",
      "72 iter started\n",
      "73 iter started\n",
      "74 iter started\n",
      "75 iter started\n",
      "76 iter started\n",
      "77 iter started\n",
      "78 iter started\n",
      "79 iter started\n",
      "80 iter started\n",
      "81 iter started\n",
      "82 iter started\n",
      "83 iter started\n",
      "84 iter started\n",
      "85 iter started\n",
      "86 iter started\n",
      "87 iter started\n",
      "88 iter started\n",
      "89 iter started\n",
      "90 iter started\n",
      "91 iter started\n",
      "92 iter started\n",
      "93 iter started\n",
      "94 iter started\n",
      "95 iter started\n",
      "96 iter started\n",
      "97 iter started\n",
      "98 iter started\n",
      "99 iter started\n",
      "100 iter started\n",
      "101 iter started\n",
      "102 iter started\n",
      "103 iter started\n",
      "104 iter started\n",
      "105 iter started\n",
      "106 iter started\n",
      "107 iter started\n",
      "108 iter started\n",
      "109 iter started\n",
      "110 iter started\n",
      "111 iter started\n",
      "112 iter started\n",
      "113 iter started\n",
      "114 iter started\n",
      "115 iter started\n",
      "116 iter started\n",
      "117 iter started\n",
      "118 iter started\n",
      "119 iter started\n",
      "120 iter started\n",
      "121 iter started\n",
      "122 iter started\n",
      "123 iter started\n",
      "124 iter started\n",
      "125 iter started\n",
      "126 iter started\n",
      "127 iter started\n",
      "128 iter started\n",
      "129 iter started\n",
      "130 iter started\n",
      "131 iter started\n",
      "132 iter started\n",
      "133 iter started\n",
      "134 iter started\n",
      "135 iter started\n",
      "136 iter started\n",
      "137 iter started\n",
      "138 iter started\n",
      "139 iter started\n",
      "140 iter started\n",
      "141 iter started\n",
      "142 iter started\n",
      "143 iter started\n",
      "144 iter started\n",
      "145 iter started\n",
      "146 iter started\n",
      "147 iter started\n",
      "148 iter started\n",
      "149 iter started\n"
     ]
    }
   ],
   "source": [
    "cv_results = {}\n",
    "for e in range(10, 150):\n",
    "    print(\"{} iter started\".format(e))\n",
    "    cv = []\n",
    "    for it in range(10):\n",
    "        reward_sum = np.array([0.] * slot_machine_num)\n",
    "        play_count = np.array([0] * slot_machine_num)\n",
    "\n",
    "        machine_policy = np.array([greedy_policy_init] * slot_machine_num)\n",
    "\n",
    "        step_av_reward = []\n",
    "        for t in range(time_period):\n",
    "            eps = e * 1. / (t + 1)\n",
    "            av_reward = np.array([0.] * slot_machine_num)\n",
    "            av_reward[play_count != 0] = reward_sum[play_count != 0] * 1. / play_count[play_count != 0]\n",
    "\n",
    "            compl_prob = np.exp(av_reward / eps).sum()\n",
    "            machine_policy = np.exp(av_reward / eps) / compl_prob\n",
    "\n",
    "            winner = np.random.choice(range(slot_machine_num), 1, p=machine_policy)[0]\n",
    "            play_count[winner] += 1\n",
    "            reward_sum[winner] += get_reward(winner)\n",
    "\n",
    "            #eps -= (eps / time_period)\n",
    "            step_av_reward.append((machine_policy * slot_machine_expect).sum())\n",
    "\n",
    "        cv.append(time_period * slot_machine_expect.max() - reward_sum.sum())\n",
    "    cv = np.array(cv).mean()\n",
    "    cv_results[e] = cv"
   ]
  },
  {
   "cell_type": "code",
   "execution_count": 17,
   "metadata": {},
   "outputs": [
    {
     "data": {
      "text/plain": [
       "{10: 438.54257079522375,\n",
       " 11: 375.9670588614318,\n",
       " 12: 327.20690967391266,\n",
       " 13: 318.98947591279614,\n",
       " 14: 355.69940009428365,\n",
       " 15: 322.87408997684827,\n",
       " 16: 190.6595049992956,\n",
       " 17: 322.06832705412586,\n",
       " 18: 210.84112807467372,\n",
       " 19: 158.02969214271647,\n",
       " 20: 376.49047264900287,\n",
       " 21: 242.7824350169707,\n",
       " 22: 250.53271486200043,\n",
       " 23: 291.50594436041473,\n",
       " 24: 387.12069017120785,\n",
       " 25: 309.9039750140822,\n",
       " 26: 391.76023100941643,\n",
       " 27: 292.15169165275745,\n",
       " 28: 284.9176247505037,\n",
       " 29: 304.042870669733,\n",
       " 30: 233.48212173167764,\n",
       " 31: 394.1462175591459,\n",
       " 32: 255.2448419056992,\n",
       " 33: 294.30397980425005,\n",
       " 34: 265.60361166253256,\n",
       " 35: 236.68934681267882,\n",
       " 36: 386.6928685572236,\n",
       " 37: 314.6802794379936,\n",
       " 38: 445.81110946892056,\n",
       " 39: 258.6138791158678,\n",
       " 40: 248.00296841349487,\n",
       " 41: 255.82961718830137,\n",
       " 42: 303.47130206262466,\n",
       " 43: 276.5456872752735,\n",
       " 44: 321.1336275472962,\n",
       " 45: 246.3043024529837,\n",
       " 46: 306.30587116490557,\n",
       " 47: 334.0484602019325,\n",
       " 48: 330.00085524377783,\n",
       " 49: 299.4326097063247,\n",
       " 50: 265.1718531747752,\n",
       " 51: 327.79040537796254,\n",
       " 52: 393.7427941747159,\n",
       " 53: 430.6177409206756,\n",
       " 54: 372.499922183444,\n",
       " 55: 323.7126515431361,\n",
       " 56: 350.55135557520487,\n",
       " 57: 279.0062737610675,\n",
       " 58: 349.15436200098344,\n",
       " 59: 317.73270778764646,\n",
       " 60: 400.12943270901195,\n",
       " 61: 324.9717521155277,\n",
       " 62: 470.21266421976924,\n",
       " 63: 307.9384855255672,\n",
       " 64: 426.27193173609965,\n",
       " 65: 341.4148708093366,\n",
       " 66: 355.35765486549064,\n",
       " 67: 353.89763462139126,\n",
       " 68: 370.8254057888786,\n",
       " 69: 395.08434123719263,\n",
       " 70: 369.1434570531061,\n",
       " 71: 369.3697482574886,\n",
       " 72: 385.14470228921283,\n",
       " 73: 338.57960856173685,\n",
       " 74: 380.1403772590532,\n",
       " 75: 380.6424340284029,\n",
       " 76: 414.7206646498033,\n",
       " 77: 399.3335171325936,\n",
       " 78: 389.793944322294,\n",
       " 79: 394.7783908484055,\n",
       " 80: 405.30377524757506,\n",
       " 81: 400.0809575280282,\n",
       " 82: 386.34151553635076,\n",
       " 83: 412.2626124053598,\n",
       " 84: 404.0559320469996,\n",
       " 85: 436.8791915552828,\n",
       " 86: 421.4423283936667,\n",
       " 87: 389.71380428787694,\n",
       " 88: 436.7462258519857,\n",
       " 89: 436.57565938882124,\n",
       " 90: 443.2150888525231,\n",
       " 91: 433.8201879971986,\n",
       " 92: 502.1052609521097,\n",
       " 93: 473.0516510010045,\n",
       " 94: 450.46404696281206,\n",
       " 95: 486.5476051094879,\n",
       " 96: 457.5201994937361,\n",
       " 97: 483.64596135690783,\n",
       " 98: 419.1667516414238,\n",
       " 99: 480.15348335930776,\n",
       " 100: 499.5724869278333,\n",
       " 101: 450.7018420439443,\n",
       " 102: 491.6250524109611,\n",
       " 103: 495.5935723370856,\n",
       " 104: 479.61516890243803,\n",
       " 105: 502.0654022890145,\n",
       " 106: 524.9870997631484,\n",
       " 107: 515.9735027600987,\n",
       " 108: 544.4538581562219,\n",
       " 109: 497.2583707813061,\n",
       " 110: 470.6776600367486,\n",
       " 111: 517.9172906707238,\n",
       " 112: 504.8398141188959,\n",
       " 113: 520.4051411687153,\n",
       " 114: 515.4657948349387,\n",
       " 115: 523.4856732950126,\n",
       " 116: 541.0719623076226,\n",
       " 117: 496.5304130302817,\n",
       " 118: 549.43423799057,\n",
       " 119: 548.6533772135102,\n",
       " 120: 534.9193756216704,\n",
       " 121: 531.2022295826278,\n",
       " 122: 538.4959063079584,\n",
       " 123: 542.0597722584093,\n",
       " 124: 536.9530687113308,\n",
       " 125: 560.5843497054954,\n",
       " 126: 549.1137658848479,\n",
       " 127: 582.7192166015103,\n",
       " 128: 568.9931821374184,\n",
       " 129: 580.853211896246,\n",
       " 130: 572.5877151708659,\n",
       " 131: 578.78156631959,\n",
       " 132: 560.8115976562561,\n",
       " 133: 579.8410709682436,\n",
       " 134: 583.6604128848792,\n",
       " 135: 612.5965285786131,\n",
       " 136: 584.1998440429692,\n",
       " 137: 596.0130474460308,\n",
       " 138: 603.0685906513,\n",
       " 139: 648.8703556919567,\n",
       " 140: 618.5393423766795,\n",
       " 141: 660.92407696623,\n",
       " 142: 595.0677906885278,\n",
       " 143: 603.6127105767296,\n",
       " 144: 629.7678133762465,\n",
       " 145: 616.2138942165295,\n",
       " 146: 603.6438496947253,\n",
       " 147: 628.6744969134604,\n",
       " 148: 611.8150359967015,\n",
       " 149: 631.7013820271425}"
      ]
     },
     "execution_count": 17,
     "metadata": {},
     "output_type": "execute_result"
    }
   ],
   "source": [
    "cv_results"
   ]
  },
  {
   "cell_type": "markdown",
   "metadata": {},
   "source": [
    "_Данный подход как и предыдущий является одним из способом имплементировать идею \"исследования\" системы. Однако в отличие от $\\varepsilon$ жадника имеет существенное преимущество. Он не перевзвешивает важность (вероятность) текуще оптимального автомата на текущей итерации, у каждого автомата есть вероятность выиграть итерацию обучения, причем эта вероятность не равномерно распределена по всем автоматам, а пропорциональна текущим оценкам. Это достаточно логично, ведь мы всегда предпочтем исследователь автомат с более \"вкусной\" оценкой на выигрыш, чем, например, автомат оценка на которого отрицательная, для предыдущего подхода в этих автоматах разницы нет. Однако мы сталкиваемся теперь с некоторым подводным камнем, совсем неисследованные автоматы при плохих инициализациях не имеют большого веса на проверке, если проинициализировать все оценки нулями, мы опять столкнемся с эффектом некоторой кластеризации, когда все исследование концентрируется среди наиболее \"удачных\" автоматах, которые мы успели проверить на первых итерациях. Решить эту проблему не так уж и сложно, достаточно задать априори всем автоматам достаточно высокую оценку на выигрыш, время от времени она все равно выправится к более правдоподобной, мы себя этим не обманем, более того еще и сможем исследовать новые автоматы не концентрируясь на маленьком подмножестве._\n",
    "\n",
    "_При стремлении гиперпараметра к нулю, мы сильнее сглаживаем текущие оценки (уравниваем между собой). При стремлении к бесконечноти, наоборот, сильнее доверяем текущим оценкам._"
   ]
  },
  {
   "cell_type": "markdown",
   "metadata": {},
   "source": [
    "### UCB"
   ]
  },
  {
   "cell_type": "code",
   "execution_count": 34,
   "metadata": {},
   "outputs": [],
   "source": [
    "reward_sum = np.array([0.] * slot_machine_num)\n",
    "play_count = np.array([0] * slot_machine_num)\n",
    "\n",
    "machine_policy = np.array([greedy_policy_init] * slot_machine_num)\n",
    "\n",
    "e = eps_usb\n",
    "step_av_reward = []\n",
    "for t in range(time_period):\n",
    "    av_reward = np.array([0.] * slot_machine_num)\n",
    "    av_reward[play_count != 0] = reward_sum[play_count != 0] * 1. / play_count[play_count != 0]\n",
    "    \n",
    "    machine_policy = av_reward + e * np.sqrt((2 * np.log(t + 1)) / (play_count + 1e-8))\n",
    "    \n",
    "    winner = machine_policy.argmax()\n",
    "    play_count[winner] += 1\n",
    "    reward_sum[winner] += get_reward(winner)\n",
    "    \n",
    "    #eps -= (eps / time_period)\n",
    "    step_av_reward.append((machine_policy * slot_machine_expect).sum())"
   ]
  },
  {
   "cell_type": "code",
   "execution_count": 33,
   "metadata": {},
   "outputs": [
    {
     "name": "stdout",
     "output_type": "stream",
     "text": [
      "Не хватило до оптимальной стратегии 273.9849475269709\n",
      "\n",
      "Дискретное распределение стратегии: \n",
      "[ 0.97704953 -0.08372585  0.903239    2.3924385   2.31635816  1.9302266\n",
      "  1.79586593  2.37327507  2.33641873  1.83440601  1.58350648  1.38884006\n",
      "  1.41556646  2.35068382  1.32424415  0.59678463  2.35372076  0.94288322\n",
      "  1.19618523 -1.13655683  1.00931108  1.25821387  1.97858079  2.23993291\n",
      "  1.33642339  2.15903702  2.08795147  1.92017149  2.03080547  2.0596717\n",
      " -0.08240631  1.78288396  1.94332475  1.71130802  1.50234323  2.36035521\n",
      " -0.81572935  2.21386126  0.52484203  2.28776976  2.40302939  2.13255367\n",
      "  2.06059592  2.40679505  0.36980121  1.22590996  1.72930102  2.08688622\n",
      " -0.36394264  2.38450329 -0.13517491  0.26889402  1.8763567   1.54730015\n",
      " -0.00708704  2.32265799  0.93443338  2.30165813  0.24505436  2.14840423\n",
      "  1.08656967  1.80194499  1.45010976  1.7557148  -0.07729749  1.48091166\n",
      "  1.86558116 -0.20664608  2.12928595  2.21791071  0.10991004  0.76755601\n",
      "  2.18397948  1.60556    -0.31947232  2.16713587  1.77720173  0.61084695\n",
      "  2.0649485   2.37855746  1.12458824  0.12439248  2.38857293  1.66241248\n",
      "  2.32659882  1.11053484  2.31839742  1.38088643  0.97218056  1.80606784\n",
      " -0.06335932  2.0138124   1.00553941  1.32325582  1.51756012  1.6264776\n",
      "  2.21855997  1.73796687  2.12173066  1.82262869]\n",
      "\n",
      "Единственный автомат, в который мы будем играть: 43\n",
      "\n",
      "Средние выигрыши к этому моменту: \n",
      "[(0, -0.3366573566916021), (1, -1.9411238888605733), (2, -0.9541590317540745), (3, 0.5350404671167852), (4, 0.4589601269108958), (5, 0.6165197151874152), (6, 0.4821590457620578), (7, 1.957751015207832), (8, 1.634087494145673), (9, -0.022992029909169986), (10, -0.27389156016241084), (11, -0.46855797119586745), (12, -0.4418315750044237), (13, 0.49328578129470413), (14, -0.5331538835473345), (15, -1.2606134070588997), (16, 1.9381967048694602), (17, -0.9145148164993366), (18, -0.6612128096169223), (19, -2.9939548638392486), (20, -0.8480869596146537), (21, -0.5991841635390437), (22, 1.049533665624205), (23, 0.3825348789333348), (24, -0.5209746497860052), (25, 0.8453301314514446), (26, 0.23055343198322314), (27, 0.06277345687896296), (28, 0.7170985803652402), (29, 1.228685919160689), (30, -1.9398043411681365), (31, -0.07451407389676612), (32, 0.8705982163106998), (33, 0.39760113174354367), (34, -0.35505480309415083), (35, 1.703378629507699), (36, -2.6731273865358185), (37, 0.9001543733118271), (38, -1.3325560019775748), (39, 1.2150432314182271), (40, 1.6444339867914446), (41, 0.8188467875826946), (42, 0.9878693876361293), (43, 2.3402329472018497), (44, -1.4875968233459238), (45, -0.631488072677318), (46, -0.1280970181588068), (47, 0.22948818703547402), (48, -2.221340680199434), (49, 1.62590788707728), (50, -1.9925729446984919), (51, -1.5885040118581997), (52, 0.018958668500640874), (53, -0.3100978880638754), (54, -1.8644850717878478), (55, 1.2499314562748902), (56, -0.9229646577213625), (57, 0.44426009731873917), (58, -1.6123436754171827), (59, 0.29100619715148535), (60, -0.7708283658781868), (61, 0.48823810523661815), (62, 0.13640287604531343), (63, 0.44200791806084216), (64, -1.9346955218592095), (65, -0.3764863729737632), (66, 0.5518742783888686), (67, -2.064044116057378), (68, 0.2718879193193308), (69, 0.3605126752397767), (70, -1.7474879957181246), (71, -1.0898420281679806), (72, 1.3529937023050018), (73, -0.25183803288119344), (74, -2.1768703506208547), (75, 0.30973783175775826), (76, -0.08019630450487555), (77, -1.246551085966861), (78, 0.20755046712914582), (79, 1.305830922280421), (80, -0.7328097922953447), (81, -1.7330055506369026), (82, 1.3158463999237815), (83, 0.348705594129288), (84, 1.8112116005683006), (85, -0.746863198956979), (86, 1.6989896582580428), (87, -0.47651160864590886), (88, -0.885217478180667), (89, 0.49236095730041446), (90, -1.9207573510886022), (91, 0.7001055098958845), (92, -0.8518586225663151), (93, -0.5341422194567362), (94, -0.3398379124775345), (95, -0.23092043154623623), (96, 0.9048530889720303), (97, 0.4242599854623607), (98, 1.0490041275929383), (99, 0.5089218060933451)]\n",
      "\n",
      "Мат. ожидания выигрышей (по возрастанию) \n",
      "[(36, -2.0470691310925226), (64, -1.8583428993401105), (12, -1.6686627070136322), (85, -1.6340320196281182), (54, -1.4860425818603866), (30, -1.4078781703965773), (69, -1.2992251500107808), (48, -1.2991613442508536), (90, -1.1637024197482566), (88, -1.0863992928587567), (52, -1.0776008975563638), (51, -1.067713065355306), (18, -1.0468389862150573), (73, -1.0127092548002778), (94, -0.9773387108382874), (75, -0.9614690500385404), (1, -0.9084814327806611), (19, -0.8896175886602026), (13, -0.8620854950098128), (53, -0.7967737630194123), (67, -0.6947726440109934), (38, -0.6790071212021919), (46, -0.6558941461838667), (58, -0.6264840491269837), (17, -0.6184426549843884), (87, -0.6177277008871878), (44, -0.5949556701334289), (45, -0.5812695375284159), (3, -0.5349155987755707), (92, -0.46264385554042636), (9, -0.43921485686763406), (5, -0.41300998231472696), (23, -0.39911571852552363), (34, -0.38665813551339834), (2, -0.37850310605882326), (10, -0.34643789298865063), (70, -0.3211054471025893), (50, -0.28844018276667344), (68, -0.2691755659389808), (77, -0.22373208113319423), (95, -0.2224362584359336), (97, -0.18838434888047959), (65, -0.16658004391883166), (21, -0.16082968616578383), (32, -0.13828364464101), (15, -0.12431339614548602), (81, -0.11449202010433539), (26, -0.10798056134293389), (76, -0.09256618896659229), (89, -0.044753328004711504), (74, -0.023974070269650767), (60, 0.005205684935553051), (20, 0.01404053719712835), (24, 0.05444456336457185), (63, 0.09027953249104458), (96, 0.09693176788019556), (66, 0.11087648013745463), (80, 0.16281815769810043), (83, 0.17979165086317853), (33, 0.18717858533399576), (0, 0.25739992534469336), (93, 0.28735510483252746), (59, 0.3079310128755357), (28, 0.3949066359501769), (62, 0.4448621590773117), (11, 0.4553196595572467), (14, 0.49291084812374153), (6, 0.49818858448728287), (71, 0.5058687421604646), (55, 0.5141287656735564), (27, 0.5556069842518202), (91, 0.5689394950042188), (99, 0.5858108272747818), (61, 0.6915319076425244), (31, 0.8078494136349023), (42, 0.8281299823497013), (78, 0.832892162099332), (29, 0.8372050226472976), (56, 0.8517908644430702), (4, 0.8580733460716252), (25, 0.8841818151951191), (47, 0.9251488533568732), (57, 0.9586734372734298), (79, 0.9741195783904064), (49, 1.0111668672107617), (41, 1.0149885167826984), (82, 1.1864684326166455), (40, 1.2212159632534685), (8, 1.2628615445176543), (37, 1.3993169863061743), (84, 1.5164416176334854), (39, 1.5289851345959593), (98, 1.5916021583729445), (35, 1.6590487297919927), (86, 1.7819709009957654), (16, 1.9351362874003422), (7, 2.0101992475719856), (72, 2.0890595712039643), (22, 2.2303596488319384), (43, 2.2662927082101914)]\n",
      "\n"
     ]
    }
   ],
   "source": [
    "av_reward = np.array([0.] * slot_machine_num)\n",
    "av_reward[play_count != 0] = reward_sum[play_count != 0] * 1. / play_count[play_count != 0]\n",
    "\n",
    "print(\"Не хватило до оптимальной стратегии {}\\n\".format(time_period * slot_machine_expect.max() - reward_sum.sum()))\n",
    "print(\"Дискретное распределение стратегии: \\n{}\\n\".format(machine_policy))\n",
    "print(\"Единственный автомат, в который мы будем играть: {}\\n\".format(machine_policy.argmax()))\n",
    "print(\"Средние выигрыши к этому моменту: \\n{}\\n\".format(list(zip(range(slot_machine_num), av_reward))))\n",
    "print(\"Мат. ожидания выигрышей (по возрастанию) \\n{}\\n\".format(list(zip(slot_machine_expect.argsort(), sorted(slot_machine_expect)))))"
   ]
  },
  {
   "cell_type": "markdown",
   "metadata": {},
   "source": [
    "_Данный подход имеет то же преимущество перед эпсилон жадником, что и softmax, поэтому данный подход лучше.\n",
    "По сравнению с softmax в этом подходе мы имеем неявную зависимость от точности нашей оценки (число проб автомата), что дает нам явное преимущество, т.к. в softmax мы можем один раз очень неудачно запустить автомат и потом полагать, что он плохой и исследовать его мы не будем. Это преимущество не такое высокое, т.к. softmax умеет сглаживать оценки за некоторое число итераций. Однако данный метод имеет ненормированную стратегию, что будет влиять негативно на исследование. Поэтому я бы отдал свое предпочтение softmax._\n",
    "\n",
    "_При стремлении гиперпараметра к нулю, мы больше доверяем текущим оценкам и меньше исследуем, при стремлении к бесконечности наоборот._"
   ]
  },
  {
   "cell_type": "markdown",
   "metadata": {},
   "source": [
    "### Gradient policy"
   ]
  },
  {
   "cell_type": "code",
   "execution_count": 64,
   "metadata": {},
   "outputs": [],
   "source": [
    "reward_sum = np.array([0.] * slot_machine_num)\n",
    "play_count = np.array([0] * slot_machine_num)\n",
    "\n",
    "smoth_reward = np.array([0] * slot_machine_num)\n",
    "probs = np.array([0] * slot_machine_num)\n",
    "\n",
    "machine_policy = np.array([greedy_policy_init] * slot_machine_num)\n",
    "\n",
    "alf = 0.9\n",
    "lmd = 1\n",
    "step_av_reward = []\n",
    "for t in range(time_period):\n",
    "    winner = np.random.choice(range(slot_machine_num), 1, p=machine_policy)[0]\n",
    "    play_count[winner] += 1\n",
    "    reward = get_reward(winner)\n",
    "    reward_sum[winner] += reward\n",
    "    smoth_reward = smoth_reward + alf * (reward - smoth_reward)\n",
    "  \n",
    "    winner_prb = probs[winner]\n",
    "    probs = probs - lmd * (reward - smoth_reward) * machine_policy\n",
    "    probs[winner] = winner_prb + lmd * (reward - smoth_reward[winner]) * (1 - machine_policy[winner])\n",
    "    \n",
    "    machine_policy = np.exp(probs) / (np.exp(probs).sum())\n",
    "   \n",
    "    step_av_reward.append((machine_policy * slot_machine_expect).sum())"
   ]
  },
  {
   "cell_type": "code",
   "execution_count": 65,
   "metadata": {},
   "outputs": [
    {
     "data": {
      "image/png": "[encoded data removed]",
      "text/plain": [
       "<Figure size 720x720 with 1 Axes>"
      ]
     },
     "metadata": {
      "needs_background": "light"
     },
     "output_type": "display_data"
    }
   ],
   "source": [
    "plt.figure(figsize=(10, 10))\n",
    "plt.title('Step reward estimate')\n",
    "plt.plot(range(time_period), step_av_reward)\n",
    "plt.show()"
   ]
  },
  {
   "cell_type": "code",
   "execution_count": 66,
   "metadata": {},
   "outputs": [
    {
     "name": "stdout",
     "output_type": "stream",
     "text": [
      "Не хватило до оптимальной стратегии 475.2944587847678\n",
      "\n",
      "Дискретное распределение стратегии: \n",
      "[1.46976560e-04 5.84455952e-05 9.10108652e-05 9.95291963e-05\n",
      " 1.26162256e-04 6.79854616e-05 5.22356732e-05 1.65544229e-04\n",
      " 2.18660529e-04 9.95291963e-05 8.76895778e-05 4.56626803e-05\n",
      " 7.39698528e-05 7.23127629e-05 8.75252417e-05 6.64151452e-05\n",
      " 1.70003338e-04 8.98475981e-05 7.06708149e-05 8.35700977e-05\n",
      " 8.05292989e-05 6.38047888e-05 9.95291963e-05 8.79854567e-05\n",
      " 9.16957041e-05 8.50497053e-05 6.72216442e-05 7.91131692e-05\n",
      " 9.42829448e-05 9.88665437e-05 9.01868512e-05 1.03842528e-04\n",
      " 7.97618774e-05 6.72130309e-05 5.02632487e-05 1.45676757e-04\n",
      " 5.27457714e-05 1.38854915e-04 4.72412203e-05 1.69012778e-04\n",
      " 8.22140671e-05 1.90855924e-04 2.09645059e-04 9.90210484e-01\n",
      " 6.53312904e-05 9.33921872e-05 8.72217990e-05 8.12187857e-05\n",
      " 7.75645518e-05 8.19293356e-05 9.28963175e-05 8.22794985e-05\n",
      " 8.15831796e-05 7.44098102e-05 8.76311067e-05 7.95994997e-05\n",
      " 1.11945803e-04 1.41403256e-04 6.33922004e-05 4.63446039e-05\n",
      " 1.00286317e-04 1.04227602e-04 1.25486103e-04 6.84614342e-05\n",
      " 6.97699716e-05 7.69574355e-05 9.95291963e-05 8.74822544e-05\n",
      " 1.20633618e-04 9.95291963e-05 1.22837461e-04 7.98245183e-05\n",
      " 5.15356917e-04 7.00325828e-05 1.20275272e-04 7.90560534e-05\n",
      " 6.94359644e-05 9.95291963e-05 1.19095834e-04 1.10232305e-04\n",
      " 8.18491957e-05 9.95291963e-05 1.85122293e-04 6.55976390e-05\n",
      " 1.10247952e-04 6.54230052e-05 1.21001857e-04 7.66406542e-05\n",
      " 6.51134762e-05 1.14123379e-04 5.48244220e-05 8.20541956e-05\n",
      " 5.32817128e-05 1.17876515e-04 4.81000774e-05 7.35245637e-05\n",
      " 1.34387374e-04 9.95291963e-05 1.07872983e-04 9.78949838e-05]\n",
      "\n",
      "Единственный автомат, в который мы будем играть: 43\n",
      "\n",
      "Средние выигрыши к этому моменту: \n",
      "[(0, 0.09728883423373207), (1, -0.9040130541115059), (2, 0.07329214171936282), (3, 0.0), (4, 2.7532821356832247), (5, 0.01526691405667796), (6, 1.0347721645373513), (7, 1.1712327099928037), (8, 1.4264872067585161), (9, 0.0), (10, 0.2778411064334089), (11, -0.0028390495729164744), (12, -2.683902164318162), (13, -1.1643758931548849), (14, 0.47929640168667004), (15, -0.18152535654653915), (16, 1.7360688001053974), (17, -0.7229892152699482), (18, -0.5599770234277083), (19, -1.3475692284287994), (20, -1.038153909144959), (21, -0.8121386465708189), (22, 0.0), (23, -1.4679708192662444), (24, -0.5166448487998451), (25, 0.18258092192865605), (26, -0.19411269628366334), (27, 0.2576079856366384), (28, -0.047614617125929126), (29, 0.6637628670796436), (30, -1.025744288415348), (31, 0.6018914744879196), (32, 0.2225628137949594), (33, -0.505375787597032), (34, -0.9258342108797009), (35, 2.6413112335998488), (36, -2.7926075066280953), (37, 1.5786326894204366), (38, -1.162316512770771), (39, 1.8710241010728255), (40, 0.4863517821232224), (41, 1.4641482619539565), (42, 1.7491122779340085), (43, 2.235634942345016), (44, -0.9844013406732777), (45, -0.19344338098231478), (46, -1.5159307188968651), (47, 0.7331892865411911), (48, -0.3719633383252574), (49, 0.38969593155107374), (50, 1.2336237382382371), (51, -0.6444999293340593), (52, -0.20639438946999278), (53, -1.1268335895722568), (54, -2.0921349979222024), (55, 0.3958202026399655), (56, 1.5369989895986247), (57, 0.7708106840753912), (58, 0.01154622114664335), (59, -0.2849119168877941), (60, 0.38873652831594363), (61, 0.7044479580712576), (62, 1.3459723913637618), (63, 0.0029608278513340858), (64, -1.5527585063606557), (65, -0.46730620867824396), (66, 0.0), (67, -0.6331458698535445), (68, -0.07225170819010873), (69, 0.0), (70, -0.08453856222094788), (71, -1.0754719451953982), (72, 2.561221756929466), (73, -1.2275253307562504), (74, 1.0075111629013895), (75, -2.1670809329425067), (76, -1.0899662429405135), (77, 0.0), (78, 1.7377841544446697), (79, 0.4333881653728247), (80, 0.16162167073234723), (81, 0.0), (82, 1.5379540171637767), (83, 0.2263958393812523), (84, 1.233361185360923), (85, -3.06225818273259), (86, 2.6630738466042967), (87, -0.11114321754047729), (88, -1.18704682406864), (89, 1.1791194142428434), (90, -0.9236845708648774), (91, -0.28580449898327376), (92, -0.5964871600436409), (93, -0.4442926878187903), (94, -1.3476800825872512), (95, -0.868048886582583), (96, 1.0454906663783974), (97, 0.0), (98, 0.9849242111284428), (99, -0.5602665138144757)]\n",
      "\n",
      "Мат. ожидания выигрышей (по возрастанию) \n",
      "[(36, -2.0470691310925226), (64, -1.8583428993401105), (12, -1.6686627070136322), (85, -1.6340320196281182), (54, -1.4860425818603866), (30, -1.4078781703965773), (69, -1.2992251500107808), (48, -1.2991613442508536), (90, -1.1637024197482566), (88, -1.0863992928587567), (52, -1.0776008975563638), (51, -1.067713065355306), (18, -1.0468389862150573), (73, -1.0127092548002778), (94, -0.9773387108382874), (75, -0.9614690500385404), (1, -0.9084814327806611), (19, -0.8896175886602026), (13, -0.8620854950098128), (53, -0.7967737630194123), (67, -0.6947726440109934), (38, -0.6790071212021919), (46, -0.6558941461838667), (58, -0.6264840491269837), (17, -0.6184426549843884), (87, -0.6177277008871878), (44, -0.5949556701334289), (45, -0.5812695375284159), (3, -0.5349155987755707), (92, -0.46264385554042636), (9, -0.43921485686763406), (5, -0.41300998231472696), (23, -0.39911571852552363), (34, -0.38665813551339834), (2, -0.37850310605882326), (10, -0.34643789298865063), (70, -0.3211054471025893), (50, -0.28844018276667344), (68, -0.2691755659389808), (77, -0.22373208113319423), (95, -0.2224362584359336), (97, -0.18838434888047959), (65, -0.16658004391883166), (21, -0.16082968616578383), (32, -0.13828364464101), (15, -0.12431339614548602), (81, -0.11449202010433539), (26, -0.10798056134293389), (76, -0.09256618896659229), (89, -0.044753328004711504), (74, -0.023974070269650767), (60, 0.005205684935553051), (20, 0.01404053719712835), (24, 0.05444456336457185), (63, 0.09027953249104458), (96, 0.09693176788019556), (66, 0.11087648013745463), (80, 0.16281815769810043), (83, 0.17979165086317853), (33, 0.18717858533399576), (0, 0.25739992534469336), (93, 0.28735510483252746), (59, 0.3079310128755357), (28, 0.3949066359501769), (62, 0.4448621590773117), (11, 0.4553196595572467), (14, 0.49291084812374153), (6, 0.49818858448728287), (71, 0.5058687421604646), (55, 0.5141287656735564), (27, 0.5556069842518202), (91, 0.5689394950042188), (99, 0.5858108272747818), (61, 0.6915319076425244), (31, 0.8078494136349023), (42, 0.8281299823497013), (78, 0.832892162099332), (29, 0.8372050226472976), (56, 0.8517908644430702), (4, 0.8580733460716252), (25, 0.8841818151951191), (47, 0.9251488533568732), (57, 0.9586734372734298), (79, 0.9741195783904064), (49, 1.0111668672107617), (41, 1.0149885167826984), (82, 1.1864684326166455), (40, 1.2212159632534685), (8, 1.2628615445176543), (37, 1.3993169863061743), (84, 1.5164416176334854), (39, 1.5289851345959593), (98, 1.5916021583729445), (35, 1.6590487297919927), (86, 1.7819709009957654), (16, 1.9351362874003422), (7, 2.0101992475719856), (72, 2.0890595712039643), (22, 2.2303596488319384), (43, 2.2662927082101914)]\n",
      "\n"
     ]
    }
   ],
   "source": [
    "av_reward = np.array([0.] * slot_machine_num)\n",
    "av_reward[play_count != 0] = reward_sum[play_count != 0] * 1. / play_count[play_count != 0]\n",
    "\n",
    "print(\"Не хватило до оптимальной стратегии {}\\n\".format(time_period * slot_machine_expect.max() - reward_sum.sum()))\n",
    "print(\"Дискретное распределение стратегии: \\n{}\\n\".format(machine_policy))\n",
    "print(\"Единственный автомат, в который мы будем играть: {}\\n\".format(machine_policy.argmax()))\n",
    "print(\"Средние выигрыши к этому моменту: \\n{}\\n\".format(list(zip(range(slot_machine_num), av_reward))))\n",
    "print(\"Мат. ожидания выигрышей (по возрастанию) \\n{}\\n\".format(list(zip(slot_machine_expect.argsort(), sorted(slot_machine_expect)))))"
   ]
  },
  {
   "cell_type": "markdown",
   "metadata": {},
   "source": [
    "### Conclusion\n",
    "\n",
    "_Для нашей модели у нас осталось два финалиста (по аналогичным причинам grad. policy выигрывает выпавших после softmax конкурсантов): softmax и gradient policy. Gradient policy мощный подход к решению задач из исходного семейства, обладающий теми же преимуществами, что и softmax только имеет несколько своих фичей, которые излишни в контексте в контексте исходной задачи, поэтому стоит отдать предпочтение более простой модели: softmax_"
   ]
  },
  {
   "cell_type": "markdown",
   "metadata": {},
   "source": [
    "---\n"
   ]
  },
  {
   "cell_type": "markdown",
   "metadata": {},
   "source": [
    "## Task 2 implementation"
   ]
  },
  {
   "cell_type": "markdown",
   "metadata": {},
   "source": [
    "### Problem statement exercise"
   ]
  },
  {
   "cell_type": "code",
   "execution_count": null,
   "metadata": {},
   "outputs": [],
   "source": []
  }
 ],
 "metadata": {
  "kernelspec": {
   "display_name": "Python 3",
   "language": "python",
   "name": "python3"
  },
  "language_info": {
   "codemirror_mode": {
    "name": "ipython",
    "version": 3
   },
   "file_extension": ".py",
   "mimetype": "text/x-python",
   "name": "python",
   "nbconvert_exporter": "python",
   "pygments_lexer": "ipython3",
   "version": "3.7.1"
  }
 },
 "nbformat": 4,
 "nbformat_minor": 2
}
